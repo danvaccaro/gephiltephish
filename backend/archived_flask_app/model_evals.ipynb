{
 "cells": [
  {
   "cell_type": "code",
   "execution_count": 1,
   "metadata": {},
   "outputs": [],
   "source": [
    "#importing the libraries\n",
    "from sklearn.feature_extraction.text import CountVectorizer\n",
    "from sklearn.model_selection import train_test_split\n",
    "from sklearn.linear_model import LogisticRegression\n",
    "import pandas as pd"
   ]
  },
  {
   "cell_type": "code",
   "execution_count": 2,
   "metadata": {},
   "outputs": [
    {
     "name": "stdout",
     "output_type": "stream",
     "text": [
      "                                       text_combined  label\n",
      "0  hpl nom may 25 2001 see attached file hplno 52...      0\n",
      "1  nom actual vols 24 th forwarded sabrae zajac h...      0\n",
      "2  enron actuals march 30 april 1 201 estimated a...      0\n",
      "3  hpl nom may 30 2001 see attached file hplno 53...      0\n",
      "4  hpl nom june 1 2001 see attached file hplno 60...      0\n",
      "(82078, 2)\n"
     ]
    }
   ],
   "source": [
    "#load the dataset\n",
    "data_path = 'datasets/phishing/archive/phishing_email.csv'\n",
    "data = pd.read_csv(data_path)\n",
    "#remove the missing values and duplicates\n",
    "data = data.dropna()\n",
    "data = data.drop_duplicates()\n",
    "#reset the index\n",
    "data = data.reset_index(drop=True)\n",
    "print(data.head())\n",
    "#check the shape of the dataset\n",
    "print(data.shape)\n",
    "#convert the text to lowercase\n",
    "data['text_combined'] = data['text_combined'].apply(lambda x: x.lower())\n",
    "\n"
   ]
  },
  {
   "cell_type": "code",
   "execution_count": 3,
   "metadata": {},
   "outputs": [
    {
     "name": "stdout",
     "output_type": "stream",
     "text": [
      "              precision    recall  f1-score   support\n",
      "\n",
      "           0       0.99      0.99      0.99      7910\n",
      "           1       0.99      0.99      0.99      8506\n",
      "\n",
      "    accuracy                           0.99     16416\n",
      "   macro avg       0.99      0.99      0.99     16416\n",
      "weighted avg       0.99      0.99      0.99     16416\n",
      "\n"
     ]
    }
   ],
   "source": [
    "# train test split for 5 fold cross validation\n",
    "X_train, X_test, y_train, y_test = train_test_split(data['text_combined'], data['label'], test_size=0.2, random_state=42)\n",
    "# initialize the count vectorizer\n",
    "count_vectorizer = CountVectorizer()\n",
    "# fit the count vectorizer\n",
    "count_vectorizer.fit(X_train)\n",
    "# transform the training data\n",
    "X_train_count = count_vectorizer.transform(X_train)\n",
    "# transform the testing data\n",
    "X_test_count = count_vectorizer.transform(X_test)\n",
    "# initialize logistic regression model\n",
    "log_reg = LogisticRegression()\n",
    "# fit the model on the training data\n",
    "log_reg.fit(X_train_count, y_train)\n",
    "# predict the labels for the testing data\n",
    "y_pred = log_reg.predict(X_test_count)\n",
    "# print the classification report\n",
    "from sklearn.metrics import classification_report\n",
    "print(classification_report(y_test, y_pred))"
   ]
  },
  {
   "cell_type": "code",
   "execution_count": null,
   "metadata": {},
   "outputs": [],
   "source": [
    "#save the model\n",
    "import pickle\n",
    "filename = 'phishing_email_model.pkl'\n",
    "pickle.dump(log_reg, open(filename, 'wb'))\n",
    "#save the count vectorizer\n",
    "filename = 'count_vectorizer.pkl'\n",
    "pickle.dump(count_vectorizer, open(filename, 'wb'))"
   ]
  }
 ],
 "metadata": {
  "kernelspec": {
   "display_name": ".venv",
   "language": "python",
   "name": "python3"
  },
  "language_info": {
   "codemirror_mode": {
    "name": "ipython",
    "version": 3
   },
   "file_extension": ".py",
   "mimetype": "text/x-python",
   "name": "python",
   "nbconvert_exporter": "python",
   "pygments_lexer": "ipython3",
   "version": "3.11.2"
  }
 },
 "nbformat": 4,
 "nbformat_minor": 2
}
